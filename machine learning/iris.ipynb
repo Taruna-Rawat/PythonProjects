{
 "cells": [
  {
   "cell_type": "code",
   "execution_count": 10,
   "id": "bba30287",
   "metadata": {},
   "outputs": [],
   "source": [
    "from sklearn.datasets import load_iris\n",
    "\n",
    "iris = load_iris()"
   ]
  },
  {
   "cell_type": "code",
   "execution_count": 9,
   "id": "aa3f0ebf",
   "metadata": {},
   "outputs": [],
   "source": [
    "x= iris.data\n",
    "y= iris.target #3 species 0,1,2\n",
    "feature_names=iris.feature_names\n",
    "target_names=iris.target_names"
   ]
  },
  {
   "cell_type": "code",
   "execution_count": 14,
   "id": "bb0541e4",
   "metadata": {},
   "outputs": [
    {
     "data": {
      "text/plain": [
       "numpy.ndarray"
      ]
     },
     "execution_count": 14,
     "metadata": {},
     "output_type": "execute_result"
    }
   ],
   "source": [
    "type(x) #multid arrays"
   ]
  },
  {
   "cell_type": "code",
   "execution_count": 23,
   "id": "9073239e",
   "metadata": {},
   "outputs": [
    {
     "name": "stdout",
     "output_type": "stream",
     "text": [
      "(120, 4)\n",
      "(30, 4)\n"
     ]
    }
   ],
   "source": [
    "# split data\n",
    "from sklearn.model_selection import train_test_split\n",
    "x_train, x_test, y_train, y_test = train_test_split(x, y, test_size=0.2)\n",
    "print(x_train.shape) #(rows,columns)\n",
    "print(x_test.shape)"
   ]
  },
  {
   "cell_type": "code",
   "execution_count": 30,
   "id": "dea580ab",
   "metadata": {},
   "outputs": [],
   "source": [
    "from sklearn.neighbors import KNeighborsClassifier\n",
    "knn=KNeighborsClassifier(n_neighbors=3) #classifications\n",
    "knn.fit(x_train,y_train) #use algo\n",
    "y_pred=knn.predict(x_test)"
   ]
  },
  {
   "cell_type": "code",
   "execution_count": 32,
   "id": "26e32025",
   "metadata": {},
   "outputs": [
    {
     "name": "stdout",
     "output_type": "stream",
     "text": [
      "0.9666666666666667\n"
     ]
    }
   ],
   "source": [
    "from sklearn import metrics\n",
    "print(metrics.accuracy_score(y_test,y_pred))\n",
    "# 96% accurate"
   ]
  },
  {
   "cell_type": "code",
   "execution_count": 35,
   "id": "4fe245d2",
   "metadata": {},
   "outputs": [
    {
     "name": "stdout",
     "output_type": "stream",
     "text": [
      "PREDICTION: ['versicolor', 'virginica']\n"
     ]
    }
   ],
   "source": [
    "sample=[[3,5,4,2],[2,3,5,4]]\n",
    "predictions= knn.predict(sample)\n",
    "pred_species=[iris.target_names[p] for p in predictions]\n",
    "print(\"PREDICTION:\", pred_species)"
   ]
  },
  {
   "cell_type": "code",
   "execution_count": 39,
   "id": "d18ee28c",
   "metadata": {},
   "outputs": [],
   "source": [
    "# persist the model for future use without having to retrain\n",
    "from joblib import dump,load\n",
    "model=dump(knn,'mlbrain')"
   ]
  },
  {
   "cell_type": "code",
   "execution_count": 40,
   "id": "cc860c98",
   "metadata": {},
   "outputs": [
    {
     "name": "stdout",
     "output_type": "stream",
     "text": [
      "PREDICTION: ['versicolor', 'virginica']\n"
     ]
    }
   ],
   "source": [
    "model=load('mlbrain') #\n",
    "model.predict(x_test)\n",
    "sample=[[3,5,4,2],[2,3,5,4]]\n",
    "predictions= knn.predict(sample)\n",
    "pred_species=[iris.target_names[p] for p in predictions]\n",
    "print(\"PREDICTION:\", pred_species)"
   ]
  },
  {
   "cell_type": "code",
   "execution_count": null,
   "id": "2676f2f9",
   "metadata": {},
   "outputs": [],
   "source": []
  }
 ],
 "metadata": {
  "kernelspec": {
   "display_name": "Python 3 (ipykernel)",
   "language": "python",
   "name": "python3"
  },
  "language_info": {
   "codemirror_mode": {
    "name": "ipython",
    "version": 3
   },
   "file_extension": ".py",
   "mimetype": "text/x-python",
   "name": "python",
   "nbconvert_exporter": "python",
   "pygments_lexer": "ipython3",
   "version": "3.11.1"
  }
 },
 "nbformat": 4,
 "nbformat_minor": 5
}
